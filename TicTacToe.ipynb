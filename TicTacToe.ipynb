{
 "cells": [
  {
   "cell_type": "code",
   "execution_count": 1,
   "id": "4fbeaf29",
   "metadata": {},
   "outputs": [],
   "source": [
    "board = [['', '', ''],\n",
    "         ['', '', ''],\n",
    "         ['', '', '']]"
   ]
  },
  {
   "cell_type": "code",
   "execution_count": 4,
   "id": "20e73f81",
   "metadata": {},
   "outputs": [],
   "source": [
    "def print_board(board):\n",
    "    for row in board:\n",
    "        print(\"|\".join(row))"
   ]
  },
  {
   "cell_type": "code",
   "execution_count": 5,
   "id": "701fff43",
   "metadata": {},
   "outputs": [
    {
     "name": "stdout",
     "output_type": "stream",
     "text": [
      "||\n",
      "||\n",
      "||\n"
     ]
    }
   ],
   "source": [
    "print_board(board)"
   ]
  },
  {
   "cell_type": "code",
   "execution_count": 6,
   "id": "cdc3e097",
   "metadata": {},
   "outputs": [],
   "source": [
    "def player_move(board, player):\n",
    "    while True:\n",
    "        row = int(input(\"Please Enter a row number from 0 to 2: \"))\n",
    "        col = int(input(\"Please Enter a col number from 0 to 2: \"))\n",
    "        if board[row][col] == '':\n",
    "            board[row][col] = player\n",
    "            break\n",
    "        else:\n",
    "            print(\"Invalid move, You can Try again\")"
   ]
  },
  {
   "cell_type": "code",
   "execution_count": 7,
   "id": "6a693065",
   "metadata": {},
   "outputs": [],
   "source": [
    "def checking_win(board, player):\n",
    "   \n",
    "    for row in board:\n",
    "        if all(location == player for location in row):\n",
    "            return True\n",
    "    \n",
    "\n",
    "    for col in range(3):\n",
    "        if all(board[row][col] == player for row in range(3)):\n",
    "            return True\n",
    "    \n",
    "  \n",
    "    if board[0][0] == board[1][1] == board[2][2] == player:\n",
    "        return True\n",
    "    if board[0][2] == board[1][1] == board[2][0] == player:\n",
    "        return True\n",
    "    \n",
    "    return False"
   ]
  },
  {
   "cell_type": "code",
   "execution_count": 9,
   "id": "0a91427b",
   "metadata": {},
   "outputs": [],
   "source": [
    "def checking_tie(board):\n",
    "    for row in board:\n",
    "        if '' in row:\n",
    "            return False\n",
    "    return True"
   ]
  },
  {
   "cell_type": "code",
   "execution_count": 10,
   "id": "0c849a78",
   "metadata": {},
   "outputs": [],
   "source": [
    "def lets_play():\n",
    "    players = ['X', 'O']\n",
    "    current_player = 0\n",
    "    \n",
    "    while True:\n",
    "        print_board(board)\n",
    "        player = players[current_player]\n",
    "        print(f\"Player {player}'s turn:\")\n",
    "        player_move(board, player)\n",
    "        \n",
    "        if checking_win(board, player):\n",
    "            print_board(board)\n",
    "            print(f\"Player {player} wins!\")\n",
    "            break\n",
    "        \n",
    "        if checking_tie(board):\n",
    "            print_board(board)\n",
    "            print(\"It's a tie!\")\n",
    "            break\n",
    "        \n",
    "        current_player = (current_player + 1) % 2"
   ]
  },
  {
   "cell_type": "code",
   "execution_count": null,
   "id": "2a64a963",
   "metadata": {},
   "outputs": [
    {
     "name": "stdout",
     "output_type": "stream",
     "text": [
      "O|X|O\n",
      "X|X|X\n",
      "O|X|O\n",
      "Player X's turn:\n"
     ]
    }
   ],
   "source": [
    "lets_play()"
   ]
  },
  {
   "cell_type": "code",
   "execution_count": null,
   "id": "35e55cc2",
   "metadata": {},
   "outputs": [],
   "source": []
  }
 ],
 "metadata": {
  "kernelspec": {
   "display_name": "Python 3 (ipykernel)",
   "language": "python",
   "name": "python3"
  },
  "language_info": {
   "codemirror_mode": {
    "name": "ipython",
    "version": 3
   },
   "file_extension": ".py",
   "mimetype": "text/x-python",
   "name": "python",
   "nbconvert_exporter": "python",
   "pygments_lexer": "ipython3",
   "version": "3.11.2"
  }
 },
 "nbformat": 4,
 "nbformat_minor": 5
}
